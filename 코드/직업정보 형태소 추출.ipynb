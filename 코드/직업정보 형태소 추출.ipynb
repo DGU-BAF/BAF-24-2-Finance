{
 "cells": [
  {
   "cell_type": "markdown",
   "metadata": {},
   "source": [
    "## 직업정보 형태소 추출"
   ]
  },
  {
   "cell_type": "markdown",
   "metadata": {},
   "source": [
    "> 목적\n",
    "\n",
    "이력서와 직무설명(수행직무, 직무개요) 간 유사도 비교의 정확도를 높이기 위해 불용어 처리를 진행함.\n",
    "\n",
    "> 처리 과정\n",
    "\n",
    "부사와 형용사는 형태소 분석기를 통해 추출된 대로 모두 제거 예정.\n",
    "\n",
    "동사는 확인 후 필요한 부분만 선택하여 제외할 예정.\n",
    "\n",
    "> 확인 결과\n",
    "\n",
    "부사와 형용사: 의미에 큰 영향을 주지 않으므로 전체 파일에서 불용어로 처리.\n",
    "\n",
    "동사: 동사는 주요한 의미를 담고 있는 경우가 많아, 해당 파일은 사용하지 않고 하드코딩 방식으로 '한다'나 '하다' 정도만 직접 처리함."
   ]
  },
  {
   "cell_type": "markdown",
   "metadata": {},
   "source": [
    "### 부사 및 형용사 추출"
   ]
  },
  {
   "cell_type": "code",
   "execution_count": 1,
   "metadata": {},
   "outputs": [],
   "source": [
    "from konlpy.tag import Okt\n",
    "import pandas as pd\n",
    "from collections import Counter\n",
    "\n",
    "# 데이터 불러오기\n",
    "df = pd.read_csv('../데이터/직업정보크롤링_all.csv')\n",
    "\n",
    "# Okt 형태소 분석기 초기화\n",
    "okt = Okt()\n",
    "\n",
    "# 특정 칼럼에서 형용사와 부사만 추출하기\n",
    "adjectives_adverbs = []\n",
    "\n",
    "for text in df['직무개요'].fillna('') + ' ' + df['수행직무'].fillna(''):\n",
    "    # 토큰화하고 형용사와 부사만 필터링\n",
    "    tokens = okt.pos(text)\n",
    "    adj_adv = [word for word, tag in tokens if tag in ['Adjective', 'Adverb']]\n",
    "    adjectives_adverbs.extend(adj_adv)\n",
    "\n",
    "# 형용사와 부사 빈도수 계산\n",
    "frequency = Counter(adjectives_adverbs)\n",
    "\n",
    "# 빈도수를 데이터프레임으로 변환\n",
    "df_adj_adv = pd.DataFrame(frequency.items(), columns=['단어', '빈도'])\n",
    "\n",
    "# 결과를 새로운 CSV 파일로 저장\n",
    "df_adj_adv.to_csv('직업정보_부사_및_형용사.csv', index=False, encoding='utf-8-sig')"
   ]
  },
  {
   "cell_type": "markdown",
   "metadata": {},
   "source": [
    "### 동사 추출"
   ]
  },
  {
   "cell_type": "code",
   "execution_count": 2,
   "metadata": {},
   "outputs": [],
   "source": [
    "from konlpy.tag import Okt\n",
    "import pandas as pd\n",
    "from collections import Counter\n",
    "\n",
    "# 데이터 불러오기\n",
    "df = pd.read_csv('../데이터/직업정보크롤링_all.csv')\n",
    "\n",
    "# Okt 형태소 분석기 초기화\n",
    "okt = Okt()\n",
    "\n",
    "# 특정 칼럼에서 동사만 추출하기\n",
    "verbs = []\n",
    "\n",
    "for text in df['직무개요'].fillna('') + ' ' + df['수행직무'].fillna(''):\n",
    "    # 토큰화하고 동사만 필터링\n",
    "    tokens = okt.pos(text)\n",
    "    verb_only = [word for word, tag in tokens if tag == 'Verb']\n",
    "    verbs.extend(verb_only)\n",
    "\n",
    "# 동사 빈도수 계산\n",
    "frequency = Counter(verbs)\n",
    "\n",
    "# 빈도수를 데이터프레임으로 변환\n",
    "df_verbs = pd.DataFrame(frequency.items(), columns=['단어', '빈도'])\n",
    "\n",
    "# 결과를 새로운 CSV 파일로 저장\n",
    "df_verbs.to_csv('직업정보_동사.csv', index=False, encoding='utf-8-sig')\n"
   ]
  }
 ],
 "metadata": {
  "kernelspec": {
   "display_name": "Python 3",
   "language": "python",
   "name": "python3"
  },
  "language_info": {
   "codemirror_mode": {
    "name": "ipython",
    "version": 3
   },
   "file_extension": ".py",
   "mimetype": "text/x-python",
   "name": "python",
   "nbconvert_exporter": "python",
   "pygments_lexer": "ipython3",
   "version": "3.12.2"
  }
 },
 "nbformat": 4,
 "nbformat_minor": 2
}
