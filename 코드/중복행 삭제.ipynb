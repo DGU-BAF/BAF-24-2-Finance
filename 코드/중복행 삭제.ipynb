{
 "cells": [
  {
   "cell_type": "code",
   "execution_count": 1,
   "metadata": {},
   "outputs": [],
   "source": [
    "# 크롤링 후 데이터 확인시, 행이 예상보다 많은 경우 해당 코드를 돌려 다시 확인해주세요\n",
    "import pandas as pd\n",
    "\n",
    "# CSV 파일 불러오기\n",
    "df = pd.read_csv('../데이터/직업정보크롤링_바.csv')\n",
    "\n",
    "# 중복된 행 제거 (첫 번째 행만 남김)\n",
    "df = df.drop_duplicates()\n",
    "\n",
    "# 중복 제거 후 CSV 파일로 저장\n",
    "df.to_csv('../데이터/직업정보크롤링_바_cleaned.csv', index=False, encoding='utf-8-sig')"
   ]
  },
  {
   "cell_type": "code",
   "execution_count": null,
   "metadata": {},
   "outputs": [],
   "source": []
  }
 ],
 "metadata": {
  "kernelspec": {
   "display_name": "Python 3",
   "language": "python",
   "name": "python3"
  },
  "language_info": {
   "codemirror_mode": {
    "name": "ipython",
    "version": 3
   },
   "file_extension": ".py",
   "mimetype": "text/x-python",
   "name": "python",
   "nbconvert_exporter": "python",
   "pygments_lexer": "ipython3",
   "version": "3.12.2"
  }
 },
 "nbformat": 4,
 "nbformat_minor": 2
}
