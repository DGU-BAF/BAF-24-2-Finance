{
 "cells": [
  {
   "cell_type": "code",
   "execution_count": 1,
   "metadata": {},
   "outputs": [],
   "source": [
    "import pandas as pd\n",
    "import os\n",
    "\n",
    "# 병합하려는 CSV 파일들의 경로 설정\n",
    "folder_path = '../데이터/'\n",
    "file_names = [\n",
    "    '직업정보크롤링_가.csv', '직업정보크롤링_나.csv', '직업정보크롤링_다.csv', '직업정보크롤링_라.csv',\n",
    "    '직업정보크롤링_마.csv', '직업정보크롤링_바.csv', '직업정보크롤링_사.csv', '직업정보크롤링_아.csv',\n",
    "    '직업정보크롤링_자.csv', '직업정보크롤링_차.csv', '직업정보크롤링_카.csv', '직업정보크롤링_타.csv',\n",
    "    '직업정보크롤링_파.csv', '직업정보크롤링_하.csv'\n",
    "]\n",
    "\n",
    "# 모든 파일을 읽어서 하나의 데이터프레임으로 병합\n",
    "merged_df = pd.concat([pd.read_csv(os.path.join(folder_path, file)) for file in file_names], ignore_index=True)\n",
    "\n",
    "# 병합된 데이터프레임을 새로운 CSV 파일로 저장\n",
    "merged_df.to_csv('직업정보크롤링_all.csv', index=False, encoding='utf-8-sig')\n"
   ]
  },
  {
   "cell_type": "code",
   "execution_count": null,
   "metadata": {},
   "outputs": [],
   "source": []
  }
 ],
 "metadata": {
  "kernelspec": {
   "display_name": "Python 3",
   "language": "python",
   "name": "python3"
  },
  "language_info": {
   "codemirror_mode": {
    "name": "ipython",
    "version": 3
   },
   "file_extension": ".py",
   "mimetype": "text/x-python",
   "name": "python",
   "nbconvert_exporter": "python",
   "pygments_lexer": "ipython3",
   "version": "3.12.2"
  }
 },
 "nbformat": 4,
 "nbformat_minor": 2
}
